{
 "cells": [
  {
   "cell_type": "markdown",
   "metadata": {},
   "source": [
    "## Header Code"
   ]
  },
  {
   "cell_type": "code",
   "execution_count": 2,
   "metadata": {
    "collapsed": false,
    "scrolled": false
   },
   "outputs": [
    {
     "data": {
      "text/html": [
       "<style>.container {width:80% !important; }</style>"
      ],
      "text/plain": [
       "<IPython.core.display.HTML object>"
      ]
     },
     "execution_count": 2,
     "metadata": {},
     "output_type": "execute_result"
    }
   ],
   "source": [
    "%matplotlib inline\n",
    "import pandas as pd\n",
    "import numpy as np\n",
    "import scipy as sp\n",
    "import re\n",
    "import math \n",
    "import csv\n",
    "import time\n",
    "import dateutil\n",
    "from datetime import datetime\n",
    "import seaborn as sns\n",
    "import tweepy\n",
    "\n",
    "# pandas options plus some more\n",
    "pd.set_option('display.width', 1000)\n",
    "pd.set_option('display.max_columns', 100)\n",
    "pd.set_option('display.notebook_repr_html', True)\n",
    "pd.options.display.float_format = '{:,.3f}'.format\n",
    "sns.set_style(\"whitegrid\")\n",
    "sns.set_context(\"poster\")\n",
    "\n",
    "# Matplotlib Formatting\n",
    "import matplotlib as mpl\n",
    "import matplotlib.cm as cm\n",
    "import matplotlib.pyplot as plt\n",
    "from matplotlib import gridspec\n",
    "from matplotlib import ticker\n",
    "\n",
    "\n",
    "from IPython.core.display import HTML\n",
    "HTML(\"<style>.container {width:80% !important; }</style>\")"
   ]
  },
  {
   "cell_type": "code",
   "execution_count": 6,
   "metadata": {
    "collapsed": false
   },
   "outputs": [
    {
     "name": "stdout",
     "output_type": "stream",
     "text": [
      "Obradović: Odbor za bezbednost da ispita Savamalu https://t.co/QqOAmOj7yo\n",
      "Stranke još nisu dobile poziv za razgovor od Vučića https://t.co/m3qTFD8Z58\n",
      "More than 150 years later, the Civil War still echoes across Harvard https://t.co/EmSA6MwBkC\n",
      "Are you all caught up on the latest Sharp End podcasts? Catch all four episodes here: https://t.co/MiUeym79c3 https://t.co/YwvvnrdgoL\n",
      "Čolaku: Srbija će, zbog Kosova, beskrajno čekati da uđe u EU https://t.co/JpNftVO6D3\n",
      "DS: Vučić satanizovao Đinđića, sad bi da mu diže spomenik https://t.co/apiIBBFApH via @N1infoBG\n",
      "“How YouNow, the Most Accepting Place on the Internet, Keeps Its Community So Damn Nice” @micnews https://t.co/Cifp5Xcdrm\n",
      "CINS istražuje, @njuznet reaguje :) #ruzicastimilioni  https://t.co/E8bbEDnhUQ\n",
      "Miloš Vučević gost Pressinga u utorak https://t.co/D3qdzaWOB4 via @N1infoBG\n",
      "Dnevnik u 18: Gost Vladimir Šeks https://t.co/LuORTiAWJK #N1info\n",
      "REAGOVANJE - Željko Mitrović:3,9 miliona evra zvuči mnogo ali vi ne znate koliko koštaju stolice koje idu gore-dole https://t.co/YhNlbb9qFA\n",
      "Mitrović: Pink vratio državi sav novac https://t.co/zbkGNFK0pL\n",
      "\"This Memorial weekend, I hope you’ll join me in acts of remembrance.\" —President Obama https://t.co/UxDZMDjMdu\n",
      "Habre osuđen za smrt i mučenja 40.000 ljudi https://t.co/ZJtCpWcnQz\n",
      "Mađarska pojačava ogradu na srbijanskoj granici https://t.co/epdKtCAc4T #N1info\n",
      "Model-Fitting Methods in Machine Learning – Closed-Form vs. Gradient Descent: https://t.co/0NrJ2A8joL\n",
      "39 studies about human perception in 30 minutes: https://t.co/fb1VrpkyG9\n",
      "Novi #Insajder bez ograničenja: Zamena teza s predumišljajem - utorak u 21.30 na TV N1 https://t.co/hp5jluS1C7 https://t.co/dOeVMctZcn\n",
      "Narodni pokret: Članovima IK u Nišu po 300.000 dinara https://t.co/W9kiKOop7O\n",
      "Kazna Partizanu @PartizanBC i \"stop\" FMP-a: Ovo je nepoštovanje rivala https://t.co/2t1DTnZZiy\n"
     ]
    }
   ],
   "source": [
    "auth = tweepy.OAuthHandler('NjWVcaQ87BY1FiLMu0B6YN34B', \n",
    "                            'HZ9TiNiG0EGphskDMMs32k6sALHg0BsaHanl6fPP0mpJGCS4si')\n",
    "auth.set_access_token('384877498-167ymWNQO2huiSH8z3PR3FOnd7lfQJhAt6gTuZEw', \n",
    "                      'NnoGHopaCH1vmLWsYek1DmiT39lMnU4kj2AZhp1Mt7r1O')\n",
    "\n",
    "api = tweepy.API(auth)\n",
    "\n",
    "public_tweets = api.home_timeline()\n",
    "for tweet in public_tweets:\n",
    "    print tweet.text"
   ]
  },
  {
   "cell_type": "code",
   "execution_count": null,
   "metadata": {
    "collapsed": true
   },
   "outputs": [],
   "source": []
  }
 ],
 "metadata": {
  "kernelspec": {
   "display_name": "Python 2",
   "language": "python",
   "name": "python2"
  },
  "language_info": {
   "codemirror_mode": {
    "name": "ipython",
    "version": 2
   },
   "file_extension": ".py",
   "mimetype": "text/x-python",
   "name": "python",
   "nbconvert_exporter": "python",
   "pygments_lexer": "ipython2",
   "version": "2.7.11"
  }
 },
 "nbformat": 4,
 "nbformat_minor": 0
}
